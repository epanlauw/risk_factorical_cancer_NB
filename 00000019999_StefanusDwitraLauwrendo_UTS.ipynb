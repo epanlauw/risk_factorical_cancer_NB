{
 "cells": [
  {
   "cell_type": "code",
   "execution_count": 1,
   "metadata": {},
   "outputs": [
    {
     "name": "stdout",
     "output_type": "stream",
     "text": [
      "Nim : 00000019999\n",
      "Nama : Stefanus Dwitra Lauwrendo\n"
     ]
    }
   ],
   "source": [
    "##Nomor 1\n",
    "print(\"Nim : 00000019999\")\n",
    "print(\"Nama : Stefanus Dwitra Lauwrendo\")"
   ]
  },
  {
   "cell_type": "code",
   "execution_count": 5,
   "metadata": {},
   "outputs": [],
   "source": [
    "import matplotlib.pyplot as plt\n",
    "import numpy as np\n",
    "import pandas as pd\n",
    "from sklearn.naive_bayes import GaussianNB\n",
    "from sklearn.neural_network import MLPClassifier\n",
    "from sklearn.tree import DecisionTreeClassifier\n",
    "from sklearn.neighbors import KNeighborsClassifier\n",
    "from sklearn.model_selection import train_test_split\n",
    "from sklearn.metrics import accuracy_score"
   ]
  },
  {
   "cell_type": "code",
   "execution_count": 6,
   "metadata": {},
   "outputs": [
    {
     "data": {
      "text/html": [
       "<div>\n",
       "<style scoped>\n",
       "    .dataframe tbody tr th:only-of-type {\n",
       "        vertical-align: middle;\n",
       "    }\n",
       "\n",
       "    .dataframe tbody tr th {\n",
       "        vertical-align: top;\n",
       "    }\n",
       "\n",
       "    .dataframe thead th {\n",
       "        text-align: right;\n",
       "    }\n",
       "</style>\n",
       "<table border=\"1\" class=\"dataframe\">\n",
       "  <thead>\n",
       "    <tr style=\"text-align: right;\">\n",
       "      <th></th>\n",
       "      <th>id</th>\n",
       "      <th>id_android</th>\n",
       "      <th>speed</th>\n",
       "      <th>time</th>\n",
       "      <th>distance</th>\n",
       "      <th>rating</th>\n",
       "      <th>rating_bus</th>\n",
       "      <th>rating_weather</th>\n",
       "      <th>car_or_bus</th>\n",
       "      <th>linha</th>\n",
       "    </tr>\n",
       "  </thead>\n",
       "  <tbody>\n",
       "    <tr>\n",
       "      <td>0</td>\n",
       "      <td>1</td>\n",
       "      <td>0</td>\n",
       "      <td>19.210586</td>\n",
       "      <td>0.138049</td>\n",
       "      <td>2.652</td>\n",
       "      <td>3</td>\n",
       "      <td>0</td>\n",
       "      <td>0</td>\n",
       "      <td>1</td>\n",
       "      <td>NaN</td>\n",
       "    </tr>\n",
       "    <tr>\n",
       "      <td>1</td>\n",
       "      <td>2</td>\n",
       "      <td>0</td>\n",
       "      <td>30.848229</td>\n",
       "      <td>0.171485</td>\n",
       "      <td>5.290</td>\n",
       "      <td>3</td>\n",
       "      <td>0</td>\n",
       "      <td>0</td>\n",
       "      <td>1</td>\n",
       "      <td>NaN</td>\n",
       "    </tr>\n",
       "    <tr>\n",
       "      <td>2</td>\n",
       "      <td>3</td>\n",
       "      <td>1</td>\n",
       "      <td>13.560101</td>\n",
       "      <td>0.067699</td>\n",
       "      <td>0.918</td>\n",
       "      <td>3</td>\n",
       "      <td>0</td>\n",
       "      <td>0</td>\n",
       "      <td>2</td>\n",
       "      <td>NaN</td>\n",
       "    </tr>\n",
       "    <tr>\n",
       "      <td>3</td>\n",
       "      <td>4</td>\n",
       "      <td>1</td>\n",
       "      <td>19.766679</td>\n",
       "      <td>0.389544</td>\n",
       "      <td>7.700</td>\n",
       "      <td>3</td>\n",
       "      <td>0</td>\n",
       "      <td>0</td>\n",
       "      <td>2</td>\n",
       "      <td>NaN</td>\n",
       "    </tr>\n",
       "    <tr>\n",
       "      <td>4</td>\n",
       "      <td>8</td>\n",
       "      <td>0</td>\n",
       "      <td>25.807401</td>\n",
       "      <td>0.154801</td>\n",
       "      <td>3.995</td>\n",
       "      <td>2</td>\n",
       "      <td>0</td>\n",
       "      <td>0</td>\n",
       "      <td>1</td>\n",
       "      <td>NaN</td>\n",
       "    </tr>\n",
       "    <tr>\n",
       "      <td>...</td>\n",
       "      <td>...</td>\n",
       "      <td>...</td>\n",
       "      <td>...</td>\n",
       "      <td>...</td>\n",
       "      <td>...</td>\n",
       "      <td>...</td>\n",
       "      <td>...</td>\n",
       "      <td>...</td>\n",
       "      <td>...</td>\n",
       "      <td>...</td>\n",
       "    </tr>\n",
       "    <tr>\n",
       "      <td>158</td>\n",
       "      <td>38081</td>\n",
       "      <td>24</td>\n",
       "      <td>30.051732</td>\n",
       "      <td>0.218756</td>\n",
       "      <td>6.574</td>\n",
       "      <td>2</td>\n",
       "      <td>0</td>\n",
       "      <td>0</td>\n",
       "      <td>1</td>\n",
       "      <td>carro</td>\n",
       "    </tr>\n",
       "    <tr>\n",
       "      <td>159</td>\n",
       "      <td>38082</td>\n",
       "      <td>24</td>\n",
       "      <td>30.173788</td>\n",
       "      <td>0.255387</td>\n",
       "      <td>7.706</td>\n",
       "      <td>3</td>\n",
       "      <td>0</td>\n",
       "      <td>0</td>\n",
       "      <td>1</td>\n",
       "      <td>carro</td>\n",
       "    </tr>\n",
       "    <tr>\n",
       "      <td>160</td>\n",
       "      <td>38084</td>\n",
       "      <td>25</td>\n",
       "      <td>1.153772</td>\n",
       "      <td>0.013001</td>\n",
       "      <td>0.015</td>\n",
       "      <td>1</td>\n",
       "      <td>3</td>\n",
       "      <td>2</td>\n",
       "      <td>2</td>\n",
       "      <td>721 - CASTELO BRANCO SUISSA</td>\n",
       "    </tr>\n",
       "    <tr>\n",
       "      <td>161</td>\n",
       "      <td>38090</td>\n",
       "      <td>26</td>\n",
       "      <td>0.843223</td>\n",
       "      <td>0.007116</td>\n",
       "      <td>0.006</td>\n",
       "      <td>3</td>\n",
       "      <td>1</td>\n",
       "      <td>2</td>\n",
       "      <td>2</td>\n",
       "      <td>002 - FERNANDO COLLOR DIA</td>\n",
       "    </tr>\n",
       "    <tr>\n",
       "      <td>162</td>\n",
       "      <td>38092</td>\n",
       "      <td>27</td>\n",
       "      <td>1.372998</td>\n",
       "      <td>0.016752</td>\n",
       "      <td>0.023</td>\n",
       "      <td>3</td>\n",
       "      <td>1</td>\n",
       "      <td>2</td>\n",
       "      <td>2</td>\n",
       "      <td>060 - PADRE PEDRO CAMPUS</td>\n",
       "    </tr>\n",
       "  </tbody>\n",
       "</table>\n",
       "<p>163 rows × 10 columns</p>\n",
       "</div>"
      ],
      "text/plain": [
       "        id  id_android      speed      time  distance  rating  rating_bus  \\\n",
       "0        1           0  19.210586  0.138049     2.652       3           0   \n",
       "1        2           0  30.848229  0.171485     5.290       3           0   \n",
       "2        3           1  13.560101  0.067699     0.918       3           0   \n",
       "3        4           1  19.766679  0.389544     7.700       3           0   \n",
       "4        8           0  25.807401  0.154801     3.995       2           0   \n",
       "..     ...         ...        ...       ...       ...     ...         ...   \n",
       "158  38081          24  30.051732  0.218756     6.574       2           0   \n",
       "159  38082          24  30.173788  0.255387     7.706       3           0   \n",
       "160  38084          25   1.153772  0.013001     0.015       1           3   \n",
       "161  38090          26   0.843223  0.007116     0.006       3           1   \n",
       "162  38092          27   1.372998  0.016752     0.023       3           1   \n",
       "\n",
       "     rating_weather  car_or_bus                        linha  \n",
       "0                 0           1                          NaN  \n",
       "1                 0           1                          NaN  \n",
       "2                 0           2                          NaN  \n",
       "3                 0           2                          NaN  \n",
       "4                 0           1                          NaN  \n",
       "..              ...         ...                          ...  \n",
       "158               0           1                        carro  \n",
       "159               0           1                        carro  \n",
       "160               2           2  721 - CASTELO BRANCO SUISSA  \n",
       "161               2           2    002 - FERNANDO COLLOR DIA  \n",
       "162               2           2     060 - PADRE PEDRO CAMPUS  \n",
       "\n",
       "[163 rows x 10 columns]"
      ]
     },
     "execution_count": 6,
     "metadata": {},
     "output_type": "execute_result"
    }
   ],
   "source": [
    "#Nomor 2\n",
    "dfread = pd.read_csv(\"go_track_track.csv\")\n",
    "dfread"
   ]
  },
  {
   "cell_type": "code",
   "execution_count": 25,
   "metadata": {},
   "outputs": [
    {
     "data": {
      "text/html": [
       "<div>\n",
       "<style scoped>\n",
       "    .dataframe tbody tr th:only-of-type {\n",
       "        vertical-align: middle;\n",
       "    }\n",
       "\n",
       "    .dataframe tbody tr th {\n",
       "        vertical-align: top;\n",
       "    }\n",
       "\n",
       "    .dataframe thead th {\n",
       "        text-align: right;\n",
       "    }\n",
       "</style>\n",
       "<table border=\"1\" class=\"dataframe\">\n",
       "  <thead>\n",
       "    <tr style=\"text-align: right;\">\n",
       "      <th></th>\n",
       "      <th>speed</th>\n",
       "      <th>time</th>\n",
       "      <th>distance</th>\n",
       "      <th>rating</th>\n",
       "      <th>rating_bus</th>\n",
       "      <th>rating_weather</th>\n",
       "      <th>car_or_bus</th>\n",
       "    </tr>\n",
       "  </thead>\n",
       "  <tbody>\n",
       "    <tr>\n",
       "      <td>0</td>\n",
       "      <td>19.210586</td>\n",
       "      <td>0.138049</td>\n",
       "      <td>2.652</td>\n",
       "      <td>3</td>\n",
       "      <td>0</td>\n",
       "      <td>0</td>\n",
       "      <td>1</td>\n",
       "    </tr>\n",
       "    <tr>\n",
       "      <td>1</td>\n",
       "      <td>30.848229</td>\n",
       "      <td>0.171485</td>\n",
       "      <td>5.290</td>\n",
       "      <td>3</td>\n",
       "      <td>0</td>\n",
       "      <td>0</td>\n",
       "      <td>1</td>\n",
       "    </tr>\n",
       "    <tr>\n",
       "      <td>2</td>\n",
       "      <td>13.560101</td>\n",
       "      <td>0.067699</td>\n",
       "      <td>0.918</td>\n",
       "      <td>3</td>\n",
       "      <td>0</td>\n",
       "      <td>0</td>\n",
       "      <td>2</td>\n",
       "    </tr>\n",
       "    <tr>\n",
       "      <td>3</td>\n",
       "      <td>19.766679</td>\n",
       "      <td>0.389544</td>\n",
       "      <td>7.700</td>\n",
       "      <td>3</td>\n",
       "      <td>0</td>\n",
       "      <td>0</td>\n",
       "      <td>2</td>\n",
       "    </tr>\n",
       "    <tr>\n",
       "      <td>4</td>\n",
       "      <td>25.807401</td>\n",
       "      <td>0.154801</td>\n",
       "      <td>3.995</td>\n",
       "      <td>2</td>\n",
       "      <td>0</td>\n",
       "      <td>0</td>\n",
       "      <td>1</td>\n",
       "    </tr>\n",
       "  </tbody>\n",
       "</table>\n",
       "</div>"
      ],
      "text/plain": [
       "       speed      time  distance  rating  rating_bus  rating_weather  \\\n",
       "0  19.210586  0.138049     2.652       3           0               0   \n",
       "1  30.848229  0.171485     5.290       3           0               0   \n",
       "2  13.560101  0.067699     0.918       3           0               0   \n",
       "3  19.766679  0.389544     7.700       3           0               0   \n",
       "4  25.807401  0.154801     3.995       2           0               0   \n",
       "\n",
       "   car_or_bus  \n",
       "0           1  \n",
       "1           1  \n",
       "2           2  \n",
       "3           2  \n",
       "4           1  "
      ]
     },
     "execution_count": 25,
     "metadata": {},
     "output_type": "execute_result"
    }
   ],
   "source": [
    "#Nomor 3\n",
    "df=dfread.drop(columns = ['linha','id_android','id'])\n",
    "df.head(5)"
   ]
  },
  {
   "cell_type": "code",
   "execution_count": 10,
   "metadata": {},
   "outputs": [
    {
     "name": "stdout",
     "output_type": "stream",
     "text": [
      "Features:Index(['speed', 'time', 'distance', 'rating', 'rating_bus', 'rating_weather',\n",
      "       'car_or_bus'],\n",
      "      dtype='object')\n"
     ]
    }
   ],
   "source": [
    "#Nomor 4\n",
    "print(\"Features:{}\".format(df.columns))"
   ]
  },
  {
   "cell_type": "code",
   "execution_count": 14,
   "metadata": {},
   "outputs": [
    {
     "name": "stdout",
     "output_type": "stream",
     "text": [
      "Shapes:(163, 7)\n"
     ]
    }
   ],
   "source": [
    "print(\"Shapes:{}\".format(df.shape))"
   ]
  },
  {
   "cell_type": "code",
   "execution_count": 27,
   "metadata": {},
   "outputs": [],
   "source": [
    "#Nomor 5\n",
    "df = dfread.drop(columns = ['linha','id_android','id','car_or_bus'])"
   ]
  },
  {
   "cell_type": "code",
   "execution_count": 28,
   "metadata": {},
   "outputs": [],
   "source": [
    "X_train, X_test, y_train, y_test = train_test_split(df, dfread['car_or_bus'], test_size=0.3 , random_state = 0)"
   ]
  },
  {
   "cell_type": "code",
   "execution_count": 29,
   "metadata": {},
   "outputs": [
    {
     "name": "stdout",
     "output_type": "stream",
     "text": [
      "X_train shape: (114, 6)\n",
      "y_train shape: (114,)\n",
      "X_test shape: (49, 6)\n",
      "y_test shape: (49,)\n"
     ]
    }
   ],
   "source": [
    "print(\"X_train shape: {}\".format(X_train.shape))\n",
    "print(\"y_train shape: {}\".format(y_train.shape))\n",
    "print(\"X_test shape: {}\".format(X_test.shape))\n",
    "print(\"y_test shape: {}\".format(y_test.shape))"
   ]
  },
  {
   "cell_type": "code",
   "execution_count": 30,
   "metadata": {},
   "outputs": [
    {
     "data": {
      "text/plain": [
       "KNeighborsClassifier(algorithm='auto', leaf_size=30, metric='minkowski',\n",
       "                     metric_params=None, n_jobs=None, n_neighbors=5, p=2,\n",
       "                     weights='uniform')"
      ]
     },
     "execution_count": 30,
     "metadata": {},
     "output_type": "execute_result"
    }
   ],
   "source": [
    "#Nomor 6\n",
    "knn = KNeighborsClassifier()\n",
    "knn.fit(X_train, y_train)"
   ]
  },
  {
   "cell_type": "code",
   "execution_count": 31,
   "metadata": {},
   "outputs": [
    {
     "name": "stdout",
     "output_type": "stream",
     "text": [
      "Accuracy : 0.7346938775510204\n"
     ]
    }
   ],
   "source": [
    "#Nomor 7\n",
    "knn.predict(X_test)\n",
    "print(\"Accuracy : {}\".format(knn.score(X_test, y_test)))"
   ]
  },
  {
   "cell_type": "code",
   "execution_count": 32,
   "metadata": {},
   "outputs": [
    {
     "data": {
      "text/plain": [
       "<matplotlib.legend.Legend at 0x1aa4d694288>"
      ]
     },
     "execution_count": 32,
     "metadata": {},
     "output_type": "execute_result"
    },
    {
     "data": {
      "image/png": "[encoded data removed]",
      "text/plain": [
       "<Figure size 432x288 with 1 Axes>"
      ]
     },
     "metadata": {
      "needs_background": "light"
     },
     "output_type": "display_data"
    }
   ],
   "source": [
    "#Nomor 8\n",
    "n_ranges = range(3,16)\n",
    "\n",
    "training_accuracy = []\n",
    "test_accuracy = []\n",
    "\n",
    "for n in n_ranges:\n",
    "    knn = KNeighborsClassifier(n_neighbors=n)\n",
    "    knn.fit(X_train, y_train)\n",
    "    \n",
    "    training_accuracy.append(knn.score(X_train, y_train))\n",
    "    test_accuracy.append(knn.score(X_test, y_test))\n",
    "\n",
    "plt.plot(n_ranges, training_accuracy, label = \"Training Accuracy\")\n",
    "plt.plot(n_ranges, test_accuracy, label = \"Test Accuracy\")\n",
    "plt.xlabel(\"n_ranges\")\n",
    "plt.ylabel(\"accuracy\")\n",
    "plt.legend()"
   ]
  },
  {
   "cell_type": "code",
   "execution_count": 34,
   "metadata": {},
   "outputs": [
    {
     "name": "stdout",
     "output_type": "stream",
     "text": [
      "Accuracy : 0.7551020408163265\n"
     ]
    }
   ],
   "source": [
    "#Nomor 9\n",
    "knn = KNeighborsClassifier(n_neighbors = 6)\n",
    "knn.fit(X_train, y_train)\n",
    "print(\"Accuracy : {}\".format(knn.score(X_test, y_test)))"
   ]
  },
  {
   "cell_type": "code",
   "execution_count": 35,
   "metadata": {},
   "outputs": [
    {
     "name": "stdout",
     "output_type": "stream",
     "text": [
      "Train Accuracy: 1.0\n",
      "Test Accuracy: 0.8367346938775511\n"
     ]
    }
   ],
   "source": [
    "#Nomor 10\n",
    "dt = DecisionTreeClassifier()\n",
    "dt.fit(X_train, y_train)\n",
    "\n",
    "print('Train Accuracy: {}'.format(dt.score(X_train, y_train)))\n",
    "print('Test Accuracy: {}'.format(dt.score(X_test, y_test)))"
   ]
  },
  {
   "cell_type": "code",
   "execution_count": 39,
   "metadata": {},
   "outputs": [
    {
     "data": {
      "text/plain": [
       "<matplotlib.legend.Legend at 0x1aa4d80b9c8>"
      ]
     },
     "execution_count": 39,
     "metadata": {},
     "output_type": "execute_result"
    },
    {
     "data": {
      "image/png": "[encoded data removed]",
      "text/plain": [
       "<Figure size 432x288 with 1 Axes>"
      ]
     },
     "metadata": {
      "needs_background": "light"
     },
     "output_type": "display_data"
    }
   ],
   "source": [
    "#Nomor 11\n",
    "n_depth = range(3,16)\n",
    "\n",
    "training_accuracy = []\n",
    "test_accuracy = []\n",
    "\n",
    "for n in n_depth:\n",
    "    dt = DecisionTreeClassifier(max_depth=n)\n",
    "    dt.fit(X_train, y_train)\n",
    "    \n",
    "    training_accuracy.append(dt.score(X_train, y_train))\n",
    "    test_accuracy.append(dt.score(X_test, y_test))\n",
    "\n",
    "plt.plot(n_ranges, training_accuracy, label = \"Training Accuracy\")\n",
    "plt.plot(n_ranges, test_accuracy, label = \"Test Accuracy\")\n",
    "plt.xlabel(\"n_depth\")\n",
    "plt.ylabel(\"accuracy\")\n",
    "plt.legend()"
   ]
  },
  {
   "cell_type": "code",
   "execution_count": 41,
   "metadata": {},
   "outputs": [
    {
     "name": "stdout",
     "output_type": "stream",
     "text": [
      "Accuracy : 0.8571428571428571\n"
     ]
    }
   ],
   "source": [
    "#Nomor 12 \n",
    "dt = DecisionTreeClassifier(max_depth=3)\n",
    "dt.fit(X_train, y_train)\n",
    "print(\"Accuracy : {}\".format(dt.score(X_test, y_test)))"
   ]
  },
  {
   "cell_type": "code",
   "execution_count": 64,
   "metadata": {},
   "outputs": [
    {
     "name": "stdout",
     "output_type": "stream",
     "text": [
      "Training Accuracy: 0.7280701754385965\n",
      "Test Accuracy: 0.7142857142857143\n"
     ]
    }
   ],
   "source": [
    "#Nomor 13\n",
    "mlpc = MLPClassifier()\n",
    "mlpc.fit(X_train, y_train)\n",
    "print(\"Training Accuracy: {}\".format(mlpc.score(X_train, y_train)))\n",
    "print(\"Test Accuracy: {}\".format(mlpc.score(X_test, y_test)))"
   ]
  },
  {
   "cell_type": "code",
   "execution_count": 65,
   "metadata": {},
   "outputs": [
    {
     "name": "stderr",
     "output_type": "stream",
     "text": [
      "C:\\Users\\user\\Anaconda3\\lib\\site-packages\\sklearn\\neural_network\\multilayer_perceptron.py:566: ConvergenceWarning: Stochastic Optimizer: Maximum iterations (200) reached and the optimization hasn't converged yet.\n",
      "  % self.max_iter, ConvergenceWarning)\n",
      "C:\\Users\\user\\Anaconda3\\lib\\site-packages\\sklearn\\neural_network\\multilayer_perceptron.py:566: ConvergenceWarning: Stochastic Optimizer: Maximum iterations (200) reached and the optimization hasn't converged yet.\n",
      "  % self.max_iter, ConvergenceWarning)\n",
      "C:\\Users\\user\\Anaconda3\\lib\\site-packages\\sklearn\\neural_network\\multilayer_perceptron.py:566: ConvergenceWarning: Stochastic Optimizer: Maximum iterations (200) reached and the optimization hasn't converged yet.\n",
      "  % self.max_iter, ConvergenceWarning)\n"
     ]
    },
    {
     "name": "stdout",
     "output_type": "stream",
     "text": [
      "Alpha :0.001\n",
      "Test Accuracy: 0.5102040816326531\n",
      "Alpha :0.01\n",
      "Test Accuracy: 0.4897959183673469\n",
      "Alpha :0.1\n",
      "Test Accuracy: 0.673469387755102\n"
     ]
    },
    {
     "name": "stderr",
     "output_type": "stream",
     "text": [
      "C:\\Users\\user\\Anaconda3\\lib\\site-packages\\sklearn\\neural_network\\multilayer_perceptron.py:566: ConvergenceWarning: Stochastic Optimizer: Maximum iterations (200) reached and the optimization hasn't converged yet.\n",
      "  % self.max_iter, ConvergenceWarning)\n",
      "C:\\Users\\user\\Anaconda3\\lib\\site-packages\\sklearn\\neural_network\\multilayer_perceptron.py:566: ConvergenceWarning: Stochastic Optimizer: Maximum iterations (200) reached and the optimization hasn't converged yet.\n",
      "  % self.max_iter, ConvergenceWarning)\n"
     ]
    },
    {
     "name": "stdout",
     "output_type": "stream",
     "text": [
      "Alpha :1\n",
      "Test Accuracy: 0.5102040816326531\n",
      "Alpha :0.001\n",
      "Test Accuracy: 0.8571428571428571\n"
     ]
    },
    {
     "name": "stderr",
     "output_type": "stream",
     "text": [
      "C:\\Users\\user\\Anaconda3\\lib\\site-packages\\sklearn\\neural_network\\multilayer_perceptron.py:566: ConvergenceWarning: Stochastic Optimizer: Maximum iterations (200) reached and the optimization hasn't converged yet.\n",
      "  % self.max_iter, ConvergenceWarning)\n",
      "C:\\Users\\user\\Anaconda3\\lib\\site-packages\\sklearn\\neural_network\\multilayer_perceptron.py:566: ConvergenceWarning: Stochastic Optimizer: Maximum iterations (200) reached and the optimization hasn't converged yet.\n",
      "  % self.max_iter, ConvergenceWarning)\n"
     ]
    },
    {
     "name": "stdout",
     "output_type": "stream",
     "text": [
      "Alpha :0.01\n",
      "Test Accuracy: 0.8367346938775511\n",
      "Alpha :0.1\n",
      "Test Accuracy: 0.8571428571428571\n",
      "Alpha :1\n",
      "Test Accuracy: 0.8571428571428571\n"
     ]
    },
    {
     "name": "stderr",
     "output_type": "stream",
     "text": [
      "C:\\Users\\user\\Anaconda3\\lib\\site-packages\\sklearn\\neural_network\\multilayer_perceptron.py:566: ConvergenceWarning: Stochastic Optimizer: Maximum iterations (200) reached and the optimization hasn't converged yet.\n",
      "  % self.max_iter, ConvergenceWarning)\n"
     ]
    }
   ],
   "source": [
    "#Nomor 14\n",
    "n_hidden = [1,150]\n",
    "alpha = [0.001, 0.01, 0.1, 1]\n",
    "\n",
    "training_accuracy = []\n",
    "test_accuracy = []\n",
    "\n",
    "for n in n_hidden:\n",
    "    for a in alpha:\n",
    "        mlpc = MLPClassifier(hidden_layer_sizes = (n,),\n",
    "                            alpha=a, max_iter=200)\n",
    "        mlpc.fit(X_train, y_train)\n",
    "        print(\"Alpha :{}\".format(a))\n",
    "        print(\"Test Accuracy: {}\".format(mlpc.score(X_test, y_test)))"
   ]
  },
  {
   "cell_type": "code",
   "execution_count": 63,
   "metadata": {},
   "outputs": [
    {
     "name": "stdout",
     "output_type": "stream",
     "text": [
      "Accuracy :0.8367346938775511\n"
     ]
    }
   ],
   "source": [
    "#Nomor 15\n",
    "gausnb = GaussianNB()\n",
    "gausnb.fit(X_train , y_train)\n",
    "print(\"Accuracy :{}\".format(gausnb.score(X_test, y_test)))"
   ]
  },
  {
   "cell_type": "code",
   "execution_count": null,
   "metadata": {},
   "outputs": [],
   "source": []
  },
  {
   "cell_type": "code",
   "execution_count": null,
   "metadata": {},
   "outputs": [],
   "source": []
  },
  {
   "cell_type": "code",
   "execution_count": null,
   "metadata": {},
   "outputs": [],
   "source": []
  }
 ],
 "metadata": {
  "kernelspec": {
   "display_name": "Python 3",
   "language": "python",
   "name": "python3"
  },
  "language_info": {
   "codemirror_mode": {
    "name": "ipython",
    "version": 3
   },
   "file_extension": ".py",
   "mimetype": "text/x-python",
   "name": "python",
   "nbconvert_exporter": "python",
   "pygments_lexer": "ipython3",
   "version": "3.7.4"
  }
 },
 "nbformat": 4,
 "nbformat_minor": 2
}
